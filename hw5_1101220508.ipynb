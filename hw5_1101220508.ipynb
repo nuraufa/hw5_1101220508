{
 "cells": [
  {
   "cell_type": "markdown",
   "id": "e294c41a-6a98-495d-b412-985054b166fe",
   "metadata": {},
   "source": [
    "Name : Nur Aufa Student ID : 1101220508"
   ]
  },
  {
   "cell_type": "code",
   "execution_count": 3,
   "id": "597e999a-9c26-4279-9283-f3231f399638",
   "metadata": {},
   "outputs": [],
   "source": [
    "import pandas as pd\n",
    "import numpy as np\n",
    "import matplotlib.pyplot as plt\n",
    "from scipy.signal import butter, filtfilt"
   ]
  },
  {
   "cell_type": "code",
   "execution_count": 4,
   "id": "3d45156c-f94e-4aca-b310-62f1407d00f1",
   "metadata": {},
   "outputs": [
    {
     "data": {
      "text/html": [
       "<div>\n",
       "<style scoped>\n",
       "    .dataframe tbody tr th:only-of-type {\n",
       "        vertical-align: middle;\n",
       "    }\n",
       "\n",
       "    .dataframe tbody tr th {\n",
       "        vertical-align: top;\n",
       "    }\n",
       "\n",
       "    .dataframe thead th {\n",
       "        text-align: right;\n",
       "    }\n",
       "</style>\n",
       "<table border=\"1\" class=\"dataframe\">\n",
       "  <thead>\n",
       "    <tr style=\"text-align: right;\">\n",
       "      <th></th>\n",
       "      <th>0</th>\n",
       "      <th>1502</th>\n",
       "      <th>2215</th>\n",
       "      <th>2153</th>\n",
       "      <th>1</th>\n",
       "    </tr>\n",
       "  </thead>\n",
       "  <tbody>\n",
       "    <tr>\n",
       "      <th>0</th>\n",
       "      <td>1.0</td>\n",
       "      <td>1667</td>\n",
       "      <td>2072</td>\n",
       "      <td>2047</td>\n",
       "      <td>1</td>\n",
       "    </tr>\n",
       "    <tr>\n",
       "      <th>1</th>\n",
       "      <td>2.0</td>\n",
       "      <td>1611</td>\n",
       "      <td>1957</td>\n",
       "      <td>1906</td>\n",
       "      <td>1</td>\n",
       "    </tr>\n",
       "    <tr>\n",
       "      <th>2</th>\n",
       "      <td>3.0</td>\n",
       "      <td>1601</td>\n",
       "      <td>1939</td>\n",
       "      <td>1831</td>\n",
       "      <td>1</td>\n",
       "    </tr>\n",
       "    <tr>\n",
       "      <th>3</th>\n",
       "      <td>4.0</td>\n",
       "      <td>1643</td>\n",
       "      <td>1965</td>\n",
       "      <td>1879</td>\n",
       "      <td>1</td>\n",
       "    </tr>\n",
       "    <tr>\n",
       "      <th>4</th>\n",
       "      <td>5.0</td>\n",
       "      <td>1604</td>\n",
       "      <td>1959</td>\n",
       "      <td>1921</td>\n",
       "      <td>1</td>\n",
       "    </tr>\n",
       "  </tbody>\n",
       "</table>\n",
       "</div>"
      ],
      "text/plain": [
       "     0  1502  2215  2153  1\n",
       "0  1.0  1667  2072  2047  1\n",
       "1  2.0  1611  1957  1906  1\n",
       "2  3.0  1601  1939  1831  1\n",
       "3  4.0  1643  1965  1879  1\n",
       "4  5.0  1604  1959  1921  1"
      ]
     },
     "execution_count": 4,
     "metadata": {},
     "output_type": "execute_result"
    }
   ],
   "source": [
    "xz = pd.read_csv(\"1.csv\")\n",
    "xz.head()"
   ]
  },
  {
   "cell_type": "code",
   "execution_count": 5,
   "id": "2a0bf6ed-3b83-416e-97ba-2f32b80c8f9c",
   "metadata": {},
   "outputs": [
    {
     "name": "stdout",
     "output_type": "stream",
     "text": [
      "Index(['0', '1502', '2215', '2153', '1'], dtype='object')\n"
     ]
    }
   ],
   "source": [
    "print(xz.columns)"
   ]
  },
  {
   "cell_type": "code",
   "execution_count": 6,
   "id": "2ce71633-f837-4a03-9688-5dc312a71fac",
   "metadata": {},
   "outputs": [
    {
     "name": "stdout",
     "output_type": "stream",
     "text": [
      "     0     1     2     3  4\n",
      "0  0.0  1502  2215  2153  1\n",
      "1  1.0  1667  2072  2047  1\n",
      "2  2.0  1611  1957  1906  1\n",
      "3  3.0  1601  1939  1831  1\n",
      "4  4.0  1643  1965  1879  1\n",
      "     0     1     2     3  4\n",
      "0  0.0  1502  2215  2153  1\n",
      "1  1.0  1667  2072  2047  1\n",
      "2  2.0  1611  1957  1906  1\n",
      "3  3.0  1601  1939  1831  1\n",
      "4  4.0  1643  1965  1879  1\n"
     ]
    }
   ],
   "source": [
    "xz = pd.read_csv(\"1.csv\", header=None)\n",
    "print(xz.head())\n",
    "print(xz.iloc[:5])"
   ]
  },
  {
   "cell_type": "code",
   "execution_count": 7,
   "id": "a59095e1-a303-4c1a-bd47-3ca1a0d3d95b",
   "metadata": {},
   "outputs": [
    {
     "name": "stdout",
     "output_type": "stream",
     "text": [
      "   Time    Ax    Ay    Az  Activity\n",
      "0   0.0  1502  2215  2153         1\n",
      "1   1.0  1667  2072  2047         1\n",
      "2   2.0  1611  1957  1906         1\n",
      "3   3.0  1601  1939  1831         1\n",
      "4   4.0  1643  1965  1879         1\n"
     ]
    }
   ],
   "source": [
    "xz = pd.read_csv(\"1.csv\", header=None)\n",
    "\n",
    "xz.columns = ['Time', 'Ax', 'Ay', 'Az', 'Activity']\n",
    "\n",
    "print(xz.head())"
   ]
  },
  {
   "cell_type": "code",
   "execution_count": 120,
   "id": "7253d365-ef6b-459e-a4c6-412bd2d934a4",
   "metadata": {},
   "outputs": [],
   "source": [
    "xz['Am'] = np.sqrt(xz['Ax']**2 + xz['Ay']**2 + xz['Az']**2)\n",
    "xz['Ax_low'] = xz['Ax'] - 100  # Contoh nilai untuk Ax_low\n",
    "xz['Ax_high'] = xz['Ax'] + 100  # Contoh nilai untuk Ax_high\n",
    "xz['Ay_low'] = xz['Ay'] - 100  # Contoh nilai untuk Ay_low\n",
    "xz['Ay_high'] = xz['Ay'] + 100  # Contoh nilai untuk Ay_high\n",
    "xz['Az_low'] = xz['Az'] - 100  # Contoh nilai untuk Az_low\n",
    "xz['Az_high'] = xz['Az'] + 100  # Contoh nilai untuk Az_high\n",
    "xz['Am_low'] = xz['Am'] - 100  # Contoh nilai untuk Am_low\n",
    "xz['Am_high'] = xz['Am'] + 100  # Contoh nilai untuk Am_high"
   ]
  },
  {
   "cell_type": "code",
   "execution_count": 122,
   "id": "599c2593-3571-42c7-9d37-8a620a1b3bee",
   "metadata": {},
   "outputs": [],
   "source": [
    "filtered_data = {activity: xz[xz['Activity'] == activity] for activity in xz['Activity'].unique()}"
   ]
  },
  {
   "cell_type": "code",
   "execution_count": 124,
   "id": "270edf8c-66ac-4b54-942d-76d4692b8de6",
   "metadata": {},
   "outputs": [
    {
     "name": "stdout",
     "output_type": "stream",
     "text": [
      "Activity: 1\n",
      "   Time    Ax    Ay    Az  Activity           Am  Ax_low  Ax_high  Ay_low  \\\n",
      "0   0.0  1502  2215  2153         1  3434.768988    1402     1602    2115   \n",
      "1   1.0  1667  2072  2047         1  3355.932359    1567     1767    1972   \n",
      "2   2.0  1611  1957  1906         1  3171.435952    1511     1711    1857   \n",
      "3   3.0  1601  1939  1831         1  3110.543843    1501     1701    1839   \n",
      "4   4.0  1643  1965  1879         1  3176.683018    1543     1743    1865   \n",
      "\n",
      "   Ay_high  Az_low  Az_high       Am_low      Am_high  \n",
      "0     2315    2053     2253  3334.768988  3534.768988  \n",
      "1     2172    1947     2147  3255.932359  3455.932359  \n",
      "2     2057    1806     2006  3071.435952  3271.435952  \n",
      "3     2039    1731     1931  3010.543843  3210.543843  \n",
      "4     2065    1779     1979  3076.683018  3276.683018  \n",
      "Activity: 2\n",
      "          Time    Ax    Ay    Az  Activity           Am  Ax_low  Ax_high  \\\n",
      "33677  33677.0  1888  2374  2053         2  3662.680576    1788     1988   \n",
      "33678  33678.0  1905  2375  2049         2  3669.884331    1805     2005   \n",
      "33679  33679.0  1910  2381  2044         2  3673.580951    1810     2010   \n",
      "33680  33680.0  1921  2377  2048         2  3678.950122    1821     2021   \n",
      "33681  33681.0  1917  2386  2047         2  3682.131720    1817     2017   \n",
      "\n",
      "       Ay_low  Ay_high  Az_low  Az_high       Am_low      Am_high  \n",
      "33677    2274     2474    1953     2153  3562.680576  3762.680576  \n",
      "33678    2275     2475    1949     2149  3569.884331  3769.884331  \n",
      "33679    2281     2481    1944     2144  3573.580951  3773.580951  \n",
      "33680    2277     2477    1948     2148  3578.950122  3778.950122  \n",
      "33681    2286     2486    1947     2147  3582.131720  3782.131720  \n",
      "Activity: 3\n",
      "          Time    Ax    Ay    Az  Activity           Am  Ax_low  Ax_high  \\\n",
      "34605  34605.0  1953  2359  2016         3  3666.516876    1853     2053   \n",
      "34606  34606.0  1944  2327  2015         3  3640.644174    1844     2044   \n",
      "34607  34607.0  1954  2344  2025         3  3662.386790    1854     2054   \n",
      "34608  34608.0  1941  2398  2093         3  3728.073765    1841     2041   \n",
      "34609  34609.0  1904  2468  2133         3  3777.026476    1804     2004   \n",
      "\n",
      "       Ay_low  Ay_high  Az_low  Az_high       Am_low      Am_high  \n",
      "34605    2259     2459    1916     2116  3566.516876  3766.516876  \n",
      "34606    2227     2427    1915     2115  3540.644174  3740.644174  \n",
      "34607    2244     2444    1925     2125  3562.386790  3762.386790  \n",
      "34608    2298     2498    1993     2193  3628.073765  3828.073765  \n",
      "34609    2368     2568    2033     2233  3677.026476  3877.026476  \n",
      "Activity: 4\n",
      "          Time    Ax    Ay    Az  Activity           Am  Ax_low  Ax_high  \\\n",
      "38488  38488.0  1895  2390  2024         4  3660.560203    1795     1995   \n",
      "38489  38489.0  1889  2389  2022         4  3655.697745    1789     1989   \n",
      "38490  38490.0  1886  2383  2027         4  3653.000684    1786     1986   \n",
      "38491  38491.0  1888  2382  2028         4  3653.936507    1788     1988   \n",
      "38492  38492.0  1889  2385  2027         4  3655.854893    1789     1989   \n",
      "\n",
      "       Ay_low  Ay_high  Az_low  Az_high       Am_low      Am_high  \n",
      "38488    2290     2490    1924     2124  3560.560203  3760.560203  \n",
      "38489    2289     2489    1922     2122  3555.697745  3755.697745  \n",
      "38490    2283     2483    1927     2127  3553.000684  3753.000684  \n",
      "38491    2282     2482    1928     2128  3553.936507  3753.936507  \n",
      "38492    2285     2485    1927     2127  3555.854893  3755.854893  \n",
      "Activity: 5\n",
      "          Time    Ax    Ay    Az  Activity           Am  Ax_low  Ax_high  \\\n",
      "69595  69595.0  1904  2390  2010         5  3657.515003    1804     2004   \n",
      "69596  69596.0  1908  2390  2009         5  3659.049740    1808     2008   \n",
      "69597  69597.0  1907  2390  2005         5  3656.333409    1807     2007   \n",
      "69598  69598.0  1899  2387  1999         5  3646.912530    1799     1999   \n",
      "69599  69599.0  1906  2387  2008         5  3655.498461    1806     2006   \n",
      "\n",
      "       Ay_low  Ay_high  Az_low  Az_high       Am_low      Am_high  \n",
      "69595    2290     2490    1910     2110  3557.515003  3757.515003  \n",
      "69596    2290     2490    1909     2109  3559.049740  3759.049740  \n",
      "69597    2290     2490    1905     2105  3556.333409  3756.333409  \n",
      "69598    2287     2487    1899     2099  3546.912530  3746.912530  \n",
      "69599    2287     2487    1908     2108  3555.498461  3755.498461  \n",
      "Activity: 6\n",
      "          Time    Ax    Ay    Az  Activity           Am  Ax_low  Ax_high  \\\n",
      "75835  75835.0  1878  2378  1973         6  3615.867392    1778     1978   \n",
      "75836  75836.0  1871  2370  1973         6  3606.975187    1771     1971   \n",
      "75837  75837.0  1877  2373  1977         6  3614.247778    1777     1977   \n",
      "75838  75838.0  1870  2375  1972         6  3609.197833    1770     1970   \n",
      "75839  75839.0  1873  2371  1979         6  3611.953903    1773     1973   \n",
      "\n",
      "       Ay_low  Ay_high  Az_low  Az_high       Am_low      Am_high  \n",
      "75835    2278     2478    1873     2073  3515.867392  3715.867392  \n",
      "75836    2270     2470    1873     2073  3506.975187  3706.975187  \n",
      "75837    2273     2473    1877     2077  3514.247778  3714.247778  \n",
      "75838    2275     2475    1872     2072  3509.197833  3709.197833  \n",
      "75839    2271     2471    1879     2079  3511.953903  3711.953903  \n",
      "Activity: 7\n",
      "          Time    Ax    Ay    Az  Activity           Am  Ax_low  Ax_high  \\\n",
      "78752  78752.0  1879  2356  2106         7  3676.494662    1779     1979   \n",
      "78753  78753.0  1893  2370  2123         7  3702.361139    1793     1993   \n",
      "78754  78754.0  1907  2373  2132         7  3716.611629    1807     2007   \n",
      "78755  78755.0  1890  2372  2102         7  3690.106774    1790     1990   \n",
      "78756  78756.0  1878  2358  2069         7  3656.201444    1778     1978   \n",
      "\n",
      "       Ay_low  Ay_high  Az_low  Az_high       Am_low      Am_high  \n",
      "78752    2256     2456    2006     2206  3576.494662  3776.494662  \n",
      "78753    2270     2470    2023     2223  3602.361139  3802.361139  \n",
      "78754    2273     2473    2032     2232  3616.611629  3816.611629  \n",
      "78755    2272     2472    2002     2202  3590.106774  3790.106774  \n",
      "78756    2258     2458    1969     2169  3556.201444  3756.201444  \n",
      "Activity: 0\n",
      "            Time    Ax    Ay    Az  Activity           Am  Ax_low  Ax_high  \\\n",
      "162500  162500.0  1922  2387  2078         0  3702.693209    1822     2022   \n",
      "\n",
      "        Ay_low  Ay_high  Az_low  Az_high       Am_low      Am_high  \n",
      "162500    2287     2487    1978     2178  3602.693209  3802.693209  \n"
     ]
    }
   ],
   "source": [
    "for activity, xz_act in filtered_data.items():\n",
    "    print(f\"Activity: {activity}\")\n",
    "    print(xz_act[['Time', 'Ax', 'Ay', 'Az', 'Activity', 'Am', 'Ax_low', 'Ax_high', 'Ay_low', 'Ay_high', \n",
    "                  'Az_low', 'Az_high', 'Am_low', 'Am_high']].head())  #Menampilkan 5 baris pertama"
   ]
  },
  {
   "cell_type": "code",
   "execution_count": 126,
   "id": "053218b8-07e3-4c83-8dde-9294c57d8333",
   "metadata": {},
   "outputs": [
    {
     "name": "stdout",
     "output_type": "stream",
     "text": [
      "Filtered Data Keys: [1, 2, 3, 4, 5, 6, 7, 0]\n",
      "Activities: [1, 2, 3, 4, 5, 6, 7, 0]\n"
     ]
    }
   ],
   "source": [
    "# Memisahkan data berdasarkan aktivitas\n",
    "filtered_data = {activity: xz[xz['Activity'] == activity] for activity in xz['Activity'].unique()}\n",
    "\n",
    "# Menyimpan daftar aktivitas\n",
    "activities = list(xz['Activity'].unique())\n",
    "\n",
    "# Alternatif untuk mencetak kunci dan aktivitas\n",
    "filtered_data_keys = list(filtered_data.keys())\n",
    "print(f\"Filtered Data Keys: {filtered_data_keys}\")\n",
    "print(f\"Activities: {activities}\")"
   ]
  },
  {
   "cell_type": "code",
   "execution_count": null,
   "id": "efe8e10d-57cb-4175-8052-d32ccb0794be",
   "metadata": {},
   "outputs": [],
   "source": [
    "# Menentukan jumlah baris dan kolom untuk subplots\n",
    "fig, axes = plt.subplots(len(activities), 4, figsize=(16, 12))\n",
    "\n",
    "# Iterasi untuk setiap aktivitas\n",
    "for i, activity in enumerate(activities):\n",
    "    # Periksa apakah aktivitas ada dalam filtered_data\n",
    "    if activity in filtered_data:\n",
    "        xz_act = filtered_data[activity]\n",
    "        \n",
    "        # Iterasi untuk setiap kolom yang diinginkan\n",
    "        for j, axis in enumerate(['Ax', 'Ay', 'Az', 'Am']):\n",
    "            if axis in df_act.columns:\n",
    "                # Plot data untuk Raw, Low-pass, dan High-pass\n",
    "                ax = axes[i, j]\n",
    "                ax.plot(xz_act.index, xz_act[axis], label='Raw', alpha=0.6)\n",
    "                ax.plot(xz_act.index, xz_act[f'{axis}_low'], label='Low-pass', linestyle='dashed')\n",
    "                ax.plot(df_act.index, xz_act[f'{axis}_high'], label='High-pass', linestyle='dotted')\n",
    "                ax.set_title(f'Activity {activity} - {axis}')\n",
    "                ax.legend()\n",
    "            else:\n",
    "                print(f\"Warning: Column {axis} not found in activity {activity}\")\n",
    "    else:\n",
    "        print(f\"Skipping Activity {activity} as it's not in filtered_data\")\n",
    "\n",
    "# Penataan layout agar tidak ada grafik yang tumpang tindih\n",
    "plt.tight_layout()\n",
    "plt.show()"
   ]
  }
 ],
 "metadata": {
  "kernelspec": {
   "display_name": "Python [conda env:base] *",
   "language": "python",
   "name": "conda-base-py"
  },
  "language_info": {
   "codemirror_mode": {
    "name": "ipython",
    "version": 3
   },
   "file_extension": ".py",
   "mimetype": "text/x-python",
   "name": "python",
   "nbconvert_exporter": "python",
   "pygments_lexer": "ipython3",
   "version": "3.12.7"
  }
 },
 "nbformat": 4,
 "nbformat_minor": 5
}
